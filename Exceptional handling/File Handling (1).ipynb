{
 "cells": [
  {
   "cell_type": "markdown",
   "metadata": {},
   "source": [
    "# file handling\n",
    "1. The file handling plays an important role when data needs to be stored permanently into the file.\n",
    "2. A file is a named location on disk to store related information.we can access the stored information (non - volatile) after the program termination.\n",
    "3. main steps of file operation - open ,read,write and close."
   ]
  },
  {
   "cell_type": "markdown",
   "metadata": {},
   "source": [
    "# open()\n",
    "1. This function help us to open a file.\n",
    "2. The open() function takes two parameters : filename and mode\n",
    "3. Different modes for opening a file:\n",
    "      i. \"r\" - read - default value.opens a file for reading ,error if the file does not exist.\n",
    "      ii. \"a\" - append - opens a file for appending creates the file if it does not exist.\n",
    "      iii. \"w\"- write - opens a file for writing ,creates the file if it does not exist.\n",
    "      iv.  \"x\" - create - creates the specified file , returns an error if the file exists.\n",
    "4. the file should be handled as binary or text mode\n",
    "      i. \"t\"- text -default mode\n",
    "      ii.\"b\"- binary mode (ex-images)\n",
    "       syntax - var =open(filename,mode)"
   ]
  },
  {
   "cell_type": "code",
   "execution_count": 2,
   "metadata": {},
   "outputs": [],
   "source": [
    "f=open('C:/Users/Himanshu/Desktop/my.txt') #open a file in read/text mode"
   ]
  },
  {
   "cell_type": "code",
   "execution_count": 3,
   "metadata": {},
   "outputs": [],
   "source": [
    "f=open('C:/Users/Himanshu/Desktop/my.txt','r') #open file in read mode"
   ]
  },
  {
   "cell_type": "markdown",
   "metadata": {},
   "source": [
    "# Read file\n",
    "1. The read() method help us to read the content of the file."
   ]
  },
  {
   "cell_type": "code",
   "execution_count": 4,
   "metadata": {},
   "outputs": [
    {
     "data": {
      "text/plain": [
       "'Thunderstorm followed by heavy rains in Delhi on Monday brought down the surface temperature by 11 notches, a much needed respite from the scorching heat in the national capital.\\n\\nAt 8 a.m., the NowCast by India Meteorological Department (IMD) said the duststorm/thunderstorm with light to moderate intensity rain and gusty winds with speed of 50-80 kmph will continue over Delhi-NCR and the adjoining region for two more hours.\\n\\nAccording to IMD, the early morning thunderstorm accompanied with lightning and rains reported over Delhi is the first storm of moderate intensity'"
      ]
     },
     "execution_count": 4,
     "metadata": {},
     "output_type": "execute_result"
    }
   ],
   "source": [
    "f.read()"
   ]
  },
  {
   "cell_type": "markdown",
   "metadata": {},
   "source": [
    "# close file"
   ]
  },
  {
   "cell_type": "code",
   "execution_count": 5,
   "metadata": {},
   "outputs": [],
   "source": [
    "f.close()"
   ]
  },
  {
   "cell_type": "code",
   "execution_count": 6,
   "metadata": {},
   "outputs": [
    {
     "ename": "ValueError",
     "evalue": "I/O operation on closed file.",
     "output_type": "error",
     "traceback": [
      "\u001b[1;31m---------------------------------------------------------------------------\u001b[0m",
      "\u001b[1;31mValueError\u001b[0m                                Traceback (most recent call last)",
      "\u001b[1;32m<ipython-input-6-571e9fb02258>\u001b[0m in \u001b[0;36m<module>\u001b[1;34m\u001b[0m\n\u001b[1;32m----> 1\u001b[1;33m \u001b[0mf\u001b[0m\u001b[1;33m.\u001b[0m\u001b[0mread\u001b[0m\u001b[1;33m(\u001b[0m\u001b[1;33m)\u001b[0m\u001b[1;33m\u001b[0m\u001b[1;33m\u001b[0m\u001b[0m\n\u001b[0m",
      "\u001b[1;31mValueError\u001b[0m: I/O operation on closed file."
     ]
    }
   ],
   "source": [
    "f.read()"
   ]
  },
  {
   "cell_type": "markdown",
   "metadata": {},
   "source": [
    "# Read operation"
   ]
  },
  {
   "cell_type": "code",
   "execution_count": 7,
   "metadata": {},
   "outputs": [
    {
     "name": "stdout",
     "output_type": "stream",
     "text": [
      "Thundersto\n"
     ]
    }
   ],
   "source": [
    "#read first 10  characters of a file\n",
    "f=open('C:/Users/Himanshu/Desktop/my.txt','r')\n",
    "print(f.read(10))\n",
    "f.close()"
   ]
  },
  {
   "cell_type": "markdown",
   "metadata": {},
   "source": [
    "# readline() \n",
    "\n",
    "return one line from a file."
   ]
  },
  {
   "cell_type": "code",
   "execution_count": 8,
   "metadata": {},
   "outputs": [
    {
     "name": "stdout",
     "output_type": "stream",
     "text": [
      "Thunderstorm fo\n"
     ]
    }
   ],
   "source": [
    "#read line from  a file\n",
    "f=open('C:/Users/Himanshu/Desktop/my.txt','r')\n",
    "print(f.readline(15))\n",
    "f.close()"
   ]
  },
  {
   "cell_type": "code",
   "execution_count": 9,
   "metadata": {},
   "outputs": [
    {
     "name": "stdout",
     "output_type": "stream",
     "text": [
      "Thunderstorm followed by heavy rains in Delhi on Monday brought down the surface temperature by 11 notches, a much needed respite from the scorching heat in the national capital.\n",
      "\n"
     ]
    }
   ],
   "source": [
    "#read line from  a file\n",
    "f=open('C:/Users/Himanshu/Desktop/my.txt','r')\n",
    "print(f.readline())\n",
    "f.close()"
   ]
  },
  {
   "cell_type": "code",
   "execution_count": 10,
   "metadata": {},
   "outputs": [
    {
     "name": "stdout",
     "output_type": "stream",
     "text": [
      "Thunderstorm followed by heavy rains in Delhi on Monday brought down the surface temperature by 11 notches, a much needed respite from the scorching heat in the national capital.\n",
      "\n",
      "\n",
      "\n",
      "At 8 a.m., the NowCast by India Meteorological Department (IMD) said the duststorm/thunderstorm with light to moderate intensity rain and gusty winds with speed of 50-80 kmph will continue over Delhi-NCR and the adjoining region for two more hours.\n",
      "\n",
      "\n",
      "\n",
      "According to IMD, the early morning thunderstorm accompanied with lightning and rains reported over Delhi is the first storm of moderate intensity\n"
     ]
    }
   ],
   "source": [
    "#read using a loop\n",
    "f=open('C:/Users/Himanshu/Desktop/my.txt','r')\n",
    "for i in f:\n",
    "    print(i)\n",
    "f.close()"
   ]
  },
  {
   "cell_type": "markdown",
   "metadata": {},
   "source": [
    "# readlines() -\n",
    "1. this method help us to read all the lines from a file"
   ]
  },
  {
   "cell_type": "code",
   "execution_count": 12,
   "metadata": {},
   "outputs": [
    {
     "name": "stdout",
     "output_type": "stream",
     "text": [
      "['Thunderstorm followed by heavy rains in Delhi on Monday brought down the surface temperature by 11 notches, a much needed respite from the scorching heat in the national capital.\\n', '\\n', 'At 8 a.m., the NowCast by India Meteorological Department (IMD) said the duststorm/thunderstorm with light to moderate intensity rain and gusty winds with speed of 50-80 kmph will continue over Delhi-NCR and the adjoining region for two more hours.\\n', '\\n', 'According to IMD, the early morning thunderstorm accompanied with lightning and rains reported over Delhi is the first storm of moderate intensity']\n"
     ]
    }
   ],
   "source": [
    "#read all lines  of a file\n",
    "f=open('C:/Users/Himanshu/Desktop/my.txt','r')\n",
    "print(f.readlines())\n",
    "f.close()"
   ]
  },
  {
   "cell_type": "code",
   "execution_count": null,
   "metadata": {},
   "outputs": [],
   "source": [
    "\"\"\"\n",
    "1.read first 5 lines of a file using readline() \n",
    "2.read first 5 lines of a file using readlines()\"\"\""
   ]
  },
  {
   "cell_type": "markdown",
   "metadata": {},
   "source": [
    "# Write file\n",
    "write() function help us to write content in the file"
   ]
  },
  {
   "cell_type": "code",
   "execution_count": 13,
   "metadata": {},
   "outputs": [],
   "source": [
    "#write \n",
    "f=open('C:/Users/Himanshu/Desktop/mycode.txt','w')\n",
    "f.write(\"lets do some coding in python\")\n",
    "f.close()"
   ]
  },
  {
   "cell_type": "code",
   "execution_count": 14,
   "metadata": {},
   "outputs": [
    {
     "data": {
      "text/plain": [
       "'lets do some coding in python'"
      ]
     },
     "execution_count": 14,
     "metadata": {},
     "output_type": "execute_result"
    }
   ],
   "source": [
    "f=open('C:/Users/Himanshu/Desktop/mycode.txt','r')\n",
    "f.read()\n"
   ]
  },
  {
   "cell_type": "code",
   "execution_count": 15,
   "metadata": {},
   "outputs": [],
   "source": [
    "f.close()"
   ]
  },
  {
   "cell_type": "code",
   "execution_count": 16,
   "metadata": {},
   "outputs": [],
   "source": [
    "#write \n",
    "f=open('C:/Users/Himanshu/Desktop/mycode.txt','w')\n",
    "f.write(\"python is an object oriented programming\")\n",
    "f.close()"
   ]
  },
  {
   "cell_type": "code",
   "execution_count": 18,
   "metadata": {},
   "outputs": [
    {
     "data": {
      "text/plain": [
       "'python is an object oriented programming'"
      ]
     },
     "execution_count": 18,
     "metadata": {},
     "output_type": "execute_result"
    }
   ],
   "source": [
    "f=open('C:/Users/Himanshu/Desktop/mycode.txt','r')\n",
    "f.read()\n"
   ]
  },
  {
   "cell_type": "code",
   "execution_count": 19,
   "metadata": {},
   "outputs": [],
   "source": [
    "f.close()"
   ]
  },
  {
   "cell_type": "code",
   "execution_count": 20,
   "metadata": {},
   "outputs": [],
   "source": [
    "#write \n",
    "f=open('C:/Users/Himanshu/Desktop/mycode.txt','a')\n",
    "f.write(\"welcome ,python is a programming language\")\n",
    "f.close()"
   ]
  },
  {
   "cell_type": "code",
   "execution_count": 21,
   "metadata": {},
   "outputs": [
    {
     "name": "stdout",
     "output_type": "stream",
     "text": [
      "python is an object oriented programmingwelcome ,python is a programming language\n"
     ]
    }
   ],
   "source": [
    "#read file\n",
    "f=open('C:/Users/Himanshu/Desktop/mycode.txt','r')\n",
    "print(f.read())\n",
    "f.close()"
   ]
  },
  {
   "cell_type": "markdown",
   "metadata": {},
   "source": [
    "# create a new file\n",
    "1. to create a new file in python ,use the open() with one of the following parameters:\n",
    "    i. \"x\" - create -will create a file ,returns an error if the file exist\n",
    "    ii. \"a\"- append - will create a file if the specified file does not exist\n",
    "    ii. \"w\"- write - will create a file if the specified file does not exist"
   ]
  },
  {
   "cell_type": "code",
   "execution_count": 22,
   "metadata": {},
   "outputs": [],
   "source": [
    "f=open('mynew.txt','x')"
   ]
  },
  {
   "cell_type": "code",
   "execution_count": 23,
   "metadata": {},
   "outputs": [
    {
     "data": {
      "text/plain": [
       "7"
      ]
     },
     "execution_count": 23,
     "metadata": {},
     "output_type": "execute_result"
    }
   ],
   "source": [
    "f.write(\"welcome\")"
   ]
  },
  {
   "cell_type": "code",
   "execution_count": 24,
   "metadata": {},
   "outputs": [],
   "source": [
    "f.close()"
   ]
  },
  {
   "cell_type": "code",
   "execution_count": 25,
   "metadata": {},
   "outputs": [
    {
     "name": "stdout",
     "output_type": "stream",
     "text": [
      "welcome\n"
     ]
    }
   ],
   "source": [
    "f=open('mynew.txt','r')\n",
    "print(f.read())\n",
    "f.close()"
   ]
  },
  {
   "cell_type": "code",
   "execution_count": 26,
   "metadata": {},
   "outputs": [],
   "source": [
    "f=open('C:/Users/Himanshu/Desktop/my.txt','r')"
   ]
  },
  {
   "cell_type": "code",
   "execution_count": 27,
   "metadata": {},
   "outputs": [
    {
     "data": {
      "text/plain": [
       "0"
      ]
     },
     "execution_count": 27,
     "metadata": {},
     "output_type": "execute_result"
    }
   ],
   "source": [
    "f.seek(0)"
   ]
  },
  {
   "cell_type": "code",
   "execution_count": 28,
   "metadata": {},
   "outputs": [
    {
     "data": {
      "text/plain": [
       "'Thunderstorm followed by heavy rains in Delhi on Monday brought down the surface temperature by 11 notches, a much needed respite from the scorching heat in the national capital.\\n\\nAt 8 a.m., the NowCast by India Meteorological Department (IMD) said the duststorm/thunderstorm with light to moderate intensity rain and gusty winds with speed of 50-80 kmph will continue over Delhi-NCR and the adjoining region for two more hours.\\n\\nAccording to IMD, the early morning thunderstorm accompanied with lightning and rains reported over Delhi is the first storm of moderate intensity'"
      ]
     },
     "execution_count": 28,
     "metadata": {},
     "output_type": "execute_result"
    }
   ],
   "source": [
    "f.read()"
   ]
  },
  {
   "cell_type": "code",
   "execution_count": 29,
   "metadata": {},
   "outputs": [
    {
     "data": {
      "text/plain": [
       "5"
      ]
     },
     "execution_count": 29,
     "metadata": {},
     "output_type": "execute_result"
    }
   ],
   "source": [
    "f.seek(5)"
   ]
  },
  {
   "cell_type": "code",
   "execution_count": 30,
   "metadata": {},
   "outputs": [
    {
     "data": {
      "text/plain": [
       "'erstorm followed by heavy rains in Delhi on Monday brought down the surface temperature by 11 notches, a much needed respite from the scorching heat in the national capital.\\n\\nAt 8 a.m., the NowCast by India Meteorological Department (IMD) said the duststorm/thunderstorm with light to moderate intensity rain and gusty winds with speed of 50-80 kmph will continue over Delhi-NCR and the adjoining region for two more hours.\\n\\nAccording to IMD, the early morning thunderstorm accompanied with lightning and rains reported over Delhi is the first storm of moderate intensity'"
      ]
     },
     "execution_count": 30,
     "metadata": {},
     "output_type": "execute_result"
    }
   ],
   "source": [
    "f.read()"
   ]
  },
  {
   "cell_type": "code",
   "execution_count": 31,
   "metadata": {},
   "outputs": [
    {
     "data": {
      "text/plain": [
       "'llowed by heavy rains in Delhi on Monday brought down the surface temperature by 11 notches, a much needed respite from the scorching heat in the national capital.\\n\\nAt 8 a.m., the NowCast by India Meteorological Department (IMD) said the duststorm/thunderstorm with light to moderate intensity rain and gusty winds with speed of 50-80 kmph will continue over Delhi-NCR and the adjoining region for two more hours.\\n\\nAccording to IMD, the early morning thunderstorm accompanied with lightning and rains reported over Delhi is the first storm of moderate intensity'"
      ]
     },
     "execution_count": 31,
     "metadata": {},
     "output_type": "execute_result"
    }
   ],
   "source": [
    "f.seek(15) \n",
    "f.read()"
   ]
  },
  {
   "cell_type": "code",
   "execution_count": 32,
   "metadata": {},
   "outputs": [
    {
     "data": {
      "text/plain": [
       "580"
      ]
     },
     "execution_count": 32,
     "metadata": {},
     "output_type": "execute_result"
    }
   ],
   "source": [
    "f.tell() # get file cursor position"
   ]
  },
  {
   "cell_type": "code",
   "execution_count": 33,
   "metadata": {},
   "outputs": [],
   "source": [
    "f.close()"
   ]
  },
  {
   "cell_type": "markdown",
   "metadata": {},
   "source": [
    "# delete a file \n",
    "1. To delete a file,you must import the OS module and run its os.remove() function\n",
    "2. to delete a folder use the os.rmdir()"
   ]
  },
  {
   "cell_type": "code",
   "execution_count": 34,
   "metadata": {},
   "outputs": [],
   "source": [
    "import os\n",
    "os.remove('mynew.txt')"
   ]
  },
  {
   "cell_type": "code",
   "execution_count": 35,
   "metadata": {},
   "outputs": [
    {
     "name": "stdout",
     "output_type": "stream",
     "text": [
      "file does not exist\n"
     ]
    }
   ],
   "source": [
    "if os.path.exists('mynew.txt'):\n",
    "    os.remove('mynew.txt')\n",
    "else:\n",
    "    print(\"file does not exist\")"
   ]
  },
  {
   "cell_type": "code",
   "execution_count": null,
   "metadata": {},
   "outputs": [],
   "source": []
  }
 ],
 "metadata": {
  "kernelspec": {
   "display_name": "Python 3",
   "language": "python",
   "name": "python3"
  },
  "language_info": {
   "codemirror_mode": {
    "name": "ipython",
    "version": 3
   },
   "file_extension": ".py",
   "mimetype": "text/x-python",
   "name": "python",
   "nbconvert_exporter": "python",
   "pygments_lexer": "ipython3",
   "version": "3.8.5"
  }
 },
 "nbformat": 4,
 "nbformat_minor": 4
}
