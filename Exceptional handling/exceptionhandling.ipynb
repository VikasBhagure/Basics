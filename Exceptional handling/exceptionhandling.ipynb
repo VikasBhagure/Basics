{
 "cells": [
  {
   "cell_type": "code",
   "execution_count": null,
   "metadata": {},
   "outputs": [],
   "source": [
    "employee_salary = 50000\n",
    "\n",
    "x = int(input('bonus percent'))\n",
    "\n",
    "try:\n",
    "    bonus = (x/100)*employee_salary\n",
    "    print(bonus)\n",
    "    if x==0:\n",
    "        raise ValueError(x)\n",
    "except ZeroDivisionError:\n",
    "    print('Zero Division Exception Occured')\n",
    "else:\n",
    "    print('no exception occured')"
   ]
  },
  {
   "cell_type": "code",
   "execution_count": null,
   "metadata": {},
   "outputs": [],
   "source": [
    "employee_salary = 50000\n",
    "\n",
    "x = int(input('bonus percent'))\n",
    "\n",
    "try:\n",
    "    bonus = 1/((100/x))*employee_salary\n",
    "    print(bonus)\n",
    "    if x==0:\n",
    "        raise ValueError(x)\n",
    "except ZeroDivisionError:\n",
    "    print('Zero Division Exception Occured')\n",
    "else:\n",
    "    print('no exception occured')"
   ]
  }
 ],
 "metadata": {
  "language_info": {
   "name": "python"
  },
  "orig_nbformat": 4
 },
 "nbformat": 4,
 "nbformat_minor": 2
}
