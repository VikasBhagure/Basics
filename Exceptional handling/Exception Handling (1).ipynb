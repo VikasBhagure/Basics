{
 "cells": [
  {
   "cell_type": "markdown",
   "metadata": {},
   "source": [
    "### Introduction\n",
    "- Python has many built-in exceptions (ArithmeticError ,ZeroDivisionError ,EOFError,IndexError ,KeyError,SyntaxError ,IndentationError,FileNotFoundError ) that are raised when your program encounters an error.\n",
    "\n",
    "- When the exception occurs python interpreter stops the current process and passes it to the calling process until it is handled.if exception is not handled the program will crash.\n",
    "- Exceptions in python can be handled using a try statement.the try block lets you test a block of code for errors.\n",
    "- The block of code which can raise an exception is placed inside the try clause.the code that will handle the exceptions is written in the except clause.\n",
    "- The finally code block will execute regardless of the resultof the try and except block.\n",
    "- We can also use the else keyword to define a block of code to be executed if no exceptions were raised.\n",
    "- Python also allows us to create our own exceptions that we can be raised from the program using the raise keyword and caught using the except clause.we can define what kind of error to raise and the text to print to the user. "
   ]
  },
  {
   "cell_type": "markdown",
   "metadata": {},
   "source": [
    "### Blocks of Exception Handling\n",
    "- try   (run this block to check exception)\n",
    "- except (run this block of code when exception occurs)\n",
    "- else   (run this block of code when no exception occurs)\n",
    "- finally (run this block of code to clean up the process)"
   ]
  },
  {
   "cell_type": "markdown",
   "metadata": {},
   "source": [
    "### Built-in Exceptions \n",
    "- OverflowError\n",
    "- ZeroDivisionError\n",
    "- NameError\n",
    "- AssertionError\n",
    "- FileNotFoundError\n",
    "- ModuleNotFoundError\n",
    "- KeyError\n",
    "- IndexError\n",
    "- TypeError\n",
    "- AttributeError"
   ]
  },
  {
   "cell_type": "markdown",
   "metadata": {},
   "source": [
    "#### OverflowError\n",
    " - This exception is raised when the result of numeric calculation out of range."
   ]
  },
  {
   "cell_type": "code",
   "execution_count": 1,
   "metadata": {},
   "outputs": [
    {
     "name": "stdout",
     "output_type": "stream",
     "text": [
      "(<class 'OverflowError'>, OverflowError('math range error'), <traceback object at 0x000002CC26CC20C0>)\n"
     ]
    }
   ],
   "source": [
    "import math\n",
    "import sys\n",
    "try:\n",
    "    print(math.exp(1000))\n",
    "except OverflowError:\n",
    "    print(sys.exc_info())\n",
    "else:\n",
    "    print(\"no exception occured\")"
   ]
  },
  {
   "cell_type": "code",
   "execution_count": 2,
   "metadata": {},
   "outputs": [
    {
     "name": "stdout",
     "output_type": "stream",
     "text": [
      "2.6881171418161356e+43\n",
      "no exception occured\n"
     ]
    }
   ],
   "source": [
    "try:\n",
    "    print(math.exp(100))\n",
    "except OverflowError:\n",
    "    print(sys.exc_info())\n",
    "else:\n",
    "    print(\"no exception occured\")"
   ]
  },
  {
   "cell_type": "code",
   "execution_count": 6,
   "metadata": {},
   "outputs": [
    {
     "name": "stdout",
     "output_type": "stream",
     "text": [
      "math range error\n"
     ]
    }
   ],
   "source": [
    "try:\n",
    "    print(math.exp(1000))\n",
    "except:\n",
    "    print(sys.exc_info()[1])\n",
    "else:\n",
    "    print(\"no exception occured\")"
   ]
  },
  {
   "cell_type": "code",
   "execution_count": 7,
   "metadata": {},
   "outputs": [
    {
     "name": "stdout",
     "output_type": "stream",
     "text": [
      "(<class 'OverflowError'>, OverflowError('math range error'), <traceback object at 0x000002CC26CCB400>)\n",
      "Program is completed ..clean the memory\n"
     ]
    }
   ],
   "source": [
    "import math\n",
    "try:\n",
    "    print(math.exp(1000))\n",
    "except OverflowError:\n",
    "    print(sys.exc_info())\n",
    "else:\n",
    "    print(\"no exception occured\")\n",
    "finally:\n",
    "    print(\"Program is completed ..clean the memory\")"
   ]
  },
  {
   "cell_type": "code",
   "execution_count": 8,
   "metadata": {},
   "outputs": [
    {
     "name": "stdout",
     "output_type": "stream",
     "text": [
      "2.6881171418161356e+43\n",
      "no exception occured\n",
      "Program is completed ..clean the memory\n"
     ]
    }
   ],
   "source": [
    "import math\n",
    "try:\n",
    "    print(math.exp(100))\n",
    "except OverflowError:\n",
    "    print(sys.exc_info())\n",
    "else:\n",
    "    print(\"no exception occured\")\n",
    "finally:\n",
    "    print(\"Program is completed ..clean the memory\")"
   ]
  },
  {
   "cell_type": "markdown",
   "metadata": {},
   "source": [
    "#### Zero Division Error\n",
    "- This exception is raised when the divisor in a division is 0."
   ]
  },
  {
   "cell_type": "code",
   "execution_count": 9,
   "metadata": {},
   "outputs": [
    {
     "ename": "ZeroDivisionError",
     "evalue": "division by zero",
     "output_type": "error",
     "traceback": [
      "\u001b[1;31m---------------------------------------------------------------------------\u001b[0m",
      "\u001b[1;31mZeroDivisionError\u001b[0m                         Traceback (most recent call last)",
      "\u001b[1;32m<ipython-input-9-58b8ea25038d>\u001b[0m in \u001b[0;36m<module>\u001b[1;34m\u001b[0m\n\u001b[0;32m      1\u001b[0m \u001b[0ma\u001b[0m\u001b[1;33m=\u001b[0m\u001b[1;36m5\u001b[0m\u001b[1;33m\u001b[0m\u001b[1;33m\u001b[0m\u001b[0m\n\u001b[0;32m      2\u001b[0m \u001b[0mb\u001b[0m\u001b[1;33m=\u001b[0m\u001b[1;36m0\u001b[0m\u001b[1;33m\u001b[0m\u001b[1;33m\u001b[0m\u001b[0m\n\u001b[1;32m----> 3\u001b[1;33m \u001b[0mc\u001b[0m\u001b[1;33m=\u001b[0m\u001b[0ma\u001b[0m\u001b[1;33m/\u001b[0m\u001b[0mb\u001b[0m\u001b[1;33m\u001b[0m\u001b[1;33m\u001b[0m\u001b[0m\n\u001b[0m\u001b[0;32m      4\u001b[0m \u001b[0mprint\u001b[0m\u001b[1;33m(\u001b[0m\u001b[0mc\u001b[0m\u001b[1;33m)\u001b[0m\u001b[1;33m\u001b[0m\u001b[1;33m\u001b[0m\u001b[0m\n",
      "\u001b[1;31mZeroDivisionError\u001b[0m: division by zero"
     ]
    }
   ],
   "source": [
    "a=5\n",
    "b=0\n",
    "c=a/b\n",
    "print(c)"
   ]
  },
  {
   "cell_type": "code",
   "execution_count": 10,
   "metadata": {},
   "outputs": [
    {
     "name": "stdout",
     "output_type": "stream",
     "text": [
      "Number cannot be divided by zero\n"
     ]
    }
   ],
   "source": [
    "a=10\n",
    "b=0\n",
    "try:\n",
    "    print(a/b)\n",
    "except ZeroDivisionError:\n",
    "    print(\"Number cannot be divided by zero\")"
   ]
  },
  {
   "cell_type": "code",
   "execution_count": 11,
   "metadata": {},
   "outputs": [
    {
     "name": "stdout",
     "output_type": "stream",
     "text": [
      "Number cannot be divided by zero\n"
     ]
    }
   ],
   "source": [
    "a=10\n",
    "b=0\n",
    "try:\n",
    "    print(a/b)\n",
    "except:\n",
    "    print(\"Number cannot be divided by zero\")"
   ]
  },
  {
   "cell_type": "code",
   "execution_count": 12,
   "metadata": {},
   "outputs": [
    {
     "name": "stdout",
     "output_type": "stream",
     "text": [
      "(<class 'ZeroDivisionError'>, ZeroDivisionError('division by zero'), <traceback object at 0x000002CC26D70740>)\n"
     ]
    }
   ],
   "source": [
    "import sys\n",
    "a=10\n",
    "b=0\n",
    "try:\n",
    "    print(a/b)\n",
    "except:\n",
    "    print(sys.exc_info())"
   ]
  },
  {
   "cell_type": "code",
   "execution_count": 13,
   "metadata": {},
   "outputs": [
    {
     "name": "stdout",
     "output_type": "stream",
     "text": [
      "division by zero\n"
     ]
    }
   ],
   "source": [
    "import sys\n",
    "a=10\n",
    "b=0\n",
    "try:\n",
    "    print(a/b)\n",
    "except:\n",
    "    print(sys.exc_info()[1])"
   ]
  },
  {
   "cell_type": "code",
   "execution_count": 14,
   "metadata": {},
   "outputs": [
    {
     "name": "stdout",
     "output_type": "stream",
     "text": [
      "1.0\n",
      "No exception Occured\n"
     ]
    }
   ],
   "source": [
    "import sys\n",
    "a=10\n",
    "b=10\n",
    "try:\n",
    "    print(a/b)\n",
    "except:\n",
    "    print(sys.exc_info())\n",
    "else:\n",
    "    print(\"No exception Occured\")"
   ]
  },
  {
   "cell_type": "code",
   "execution_count": 15,
   "metadata": {},
   "outputs": [
    {
     "name": "stdout",
     "output_type": "stream",
     "text": [
      "1.0\n",
      "No exception Occured\n",
      "Run this block for clean up process\n"
     ]
    }
   ],
   "source": [
    "import sys\n",
    "a=10\n",
    "b=10\n",
    "try:\n",
    "    print(a/b)\n",
    "except:\n",
    "    print(sys.exc_info())\n",
    "else:\n",
    "    print(\"No exception Occured\")\n",
    "finally:\n",
    "    print(\"Run this block for clean up process\")"
   ]
  },
  {
   "cell_type": "markdown",
   "metadata": {},
   "source": [
    "#### NameError \n",
    "- NameError exception will be encountered as variable is not defined"
   ]
  },
  {
   "cell_type": "code",
   "execution_count": 16,
   "metadata": {},
   "outputs": [
    {
     "name": "stdout",
     "output_type": "stream",
     "text": [
      "y is not defined\n"
     ]
    }
   ],
   "source": [
    "try:\n",
    "    print(y)\n",
    "except:\n",
    "    print(\"y is not defined\")"
   ]
  },
  {
   "cell_type": "code",
   "execution_count": 17,
   "metadata": {},
   "outputs": [
    {
     "name": "stdout",
     "output_type": "stream",
     "text": [
      "(<class 'NameError'>, NameError(\"name 'x' is not defined\"), <traceback object at 0x000002CC26D79FC0>)\n"
     ]
    }
   ],
   "source": [
    "import sys\n",
    "try:\n",
    "    print(x)\n",
    "except:\n",
    "    print(sys.exc_info())"
   ]
  },
  {
   "cell_type": "code",
   "execution_count": 18,
   "metadata": {},
   "outputs": [
    {
     "name": "stdout",
     "output_type": "stream",
     "text": [
      "10\n"
     ]
    }
   ],
   "source": [
    "x=10\n",
    "try:\n",
    "    print(x)\n",
    "except:\n",
    "    print(sys.exc_info())"
   ]
  },
  {
   "cell_type": "markdown",
   "metadata": {},
   "source": [
    "#### AssertionError\n",
    "- This exception is raised when an assert statement fails"
   ]
  },
  {
   "cell_type": "code",
   "execution_count": 19,
   "metadata": {},
   "outputs": [
    {
     "name": "stdout",
     "output_type": "stream",
     "text": [
      "(<class 'AssertionError'>, AssertionError(), <traceback object at 0x000002CC26D82180>)\n"
     ]
    }
   ],
   "source": [
    "a=12\n",
    "b=\"shalini\"\n",
    "try:\n",
    "    assert a==b\n",
    "except AssertionError:\n",
    "    print(sys.exc_info())"
   ]
  },
  {
   "cell_type": "markdown",
   "metadata": {},
   "source": [
    "#### FileNotFoundError\n",
    "- This exception is raised when a specific file not found"
   ]
  },
  {
   "cell_type": "code",
   "execution_count": 20,
   "metadata": {},
   "outputs": [
    {
     "name": "stdout",
     "output_type": "stream",
     "text": [
      "(<class 'FileNotFoundError'>, FileNotFoundError(2, 'The system cannot find the file specified'), <traceback object at 0x000002CC26D825C0>)\n",
      "Run this block of code always\n"
     ]
    }
   ],
   "source": [
    "import os\n",
    "import sys\n",
    "try:\n",
    "    os.remove(\"test.txt\")\n",
    "except:\n",
    "    print(sys.exc_info())\n",
    "else:\n",
    "    print(\"no exception occured\")\n",
    "finally:\n",
    "    print(\"Run this block of code always\")"
   ]
  },
  {
   "cell_type": "markdown",
   "metadata": {},
   "source": [
    "#### ModuleNotFoundError\n",
    "- This exception is raised when an imported module does not exist."
   ]
  },
  {
   "cell_type": "code",
   "execution_count": 21,
   "metadata": {},
   "outputs": [],
   "source": [
    "try:\n",
    "      import sys\n",
    "except ModuleNotFoundError:\n",
    "    print(\"Module not found error\")"
   ]
  },
  {
   "cell_type": "code",
   "execution_count": 22,
   "metadata": {},
   "outputs": [],
   "source": [
    "try:\n",
    "      import mydata\n",
    "except ModuleNotFoundError:\n",
    "    print(\"Module not found error\")"
   ]
  },
  {
   "cell_type": "code",
   "execution_count": 23,
   "metadata": {},
   "outputs": [
    {
     "name": "stdout",
     "output_type": "stream",
     "text": [
      "Module not found error\n"
     ]
    }
   ],
   "source": [
    "try:\n",
    "      import shalini\n",
    "except ModuleNotFoundError:\n",
    "    print(\"Module not found error\")"
   ]
  },
  {
   "cell_type": "markdown",
   "metadata": {},
   "source": [
    "#### KeyError\n",
    "- This exception is raised when key does not exist in a dictionary"
   ]
  },
  {
   "cell_type": "code",
   "execution_count": 24,
   "metadata": {},
   "outputs": [
    {
     "name": "stdout",
     "output_type": "stream",
     "text": [
      "keyerror exception occured\n"
     ]
    }
   ],
   "source": [
    "m={1:'divya',2:'sita',3:'rekha'}\n",
    "try:\n",
    "    print(m[4])\n",
    "except:\n",
    "    print(\"keyerror exception occured\")"
   ]
  },
  {
   "cell_type": "markdown",
   "metadata": {},
   "source": [
    "#### IndexError\n",
    "- This exception is raised when an index of a sequence does not exist."
   ]
  },
  {
   "cell_type": "code",
   "execution_count": 25,
   "metadata": {},
   "outputs": [
    {
     "name": "stdout",
     "output_type": "stream",
     "text": [
      "index error\n"
     ]
    }
   ],
   "source": [
    "l=[1,3,4,5,6,7]\n",
    "try:\n",
    "    print(l[7])\n",
    "except:\n",
    "    print(\"index error\")"
   ]
  },
  {
   "cell_type": "markdown",
   "metadata": {},
   "source": [
    "#### TypeError\n",
    "- This exception is raised when two different types are combined to perform some operation"
   ]
  },
  {
   "cell_type": "code",
   "execution_count": 26,
   "metadata": {},
   "outputs": [
    {
     "name": "stdout",
     "output_type": "stream",
     "text": [
      "TypeError Exception occured\n"
     ]
    }
   ],
   "source": [
    "a=12\n",
    "b=\"Shalini\"\n",
    "try:\n",
    "    print(a/b)\n",
    "except TypeError:\n",
    "    print(\"TypeError Exception occured\")"
   ]
  },
  {
   "cell_type": "markdown",
   "metadata": {},
   "source": [
    "#### AttributeError\n",
    "- This exception is raised when attribute reference is incorrect."
   ]
  },
  {
   "cell_type": "code",
   "execution_count": 27,
   "metadata": {},
   "outputs": [
    {
     "name": "stdout",
     "output_type": "stream",
     "text": [
      "AttributeError Exception occured\n"
     ]
    }
   ],
   "source": [
    "a=12\n",
    "try:\n",
    "    print(a.upper())\n",
    "except AttributeError:\n",
    "    print(\"AttributeError Exception occured\")"
   ]
  },
  {
   "cell_type": "code",
   "execution_count": 30,
   "metadata": {},
   "outputs": [
    {
     "name": "stdout",
     "output_type": "stream",
     "text": [
      "enter the first number67\n",
      "enter the second number0\n",
      "Zero Division Exception occured\n"
     ]
    }
   ],
   "source": [
    "import os\n",
    "import sys\n",
    "try:\n",
    "    x=int(input(\"enter the first number\"))\n",
    "    y=int(input(\"enter the second number\"))\n",
    "    \n",
    "    print(x/y)\n",
    "    os.remove(\"test1.txt\")\n",
    "    \n",
    "except FileNotFoundError:\n",
    "    print(\"File not found error exception occured\")\n",
    "    \n",
    "except ZeroDivisionError:\n",
    "    print(\"Zero Division Exception occured\")\n",
    "    \n",
    "except NameError:\n",
    "    print(\"NameError Exception Occured\")"
   ]
  },
  {
   "cell_type": "code",
   "execution_count": 32,
   "metadata": {},
   "outputs": [
    {
     "name": "stdout",
     "output_type": "stream",
     "text": [
      "enter number43\n",
      "no exception occured\n"
     ]
    }
   ],
   "source": [
    "try:\n",
    "    x=int(input(\"enter number\"))\n",
    "    if x>50:\n",
    "        raise ValueError(x)\n",
    "except:\n",
    "    print(sys.exc_info())\n",
    "else:\n",
    "    print(\"no exception occured\")"
   ]
  },
  {
   "cell_type": "code",
   "execution_count": null,
   "metadata": {},
   "outputs": [],
   "source": []
  }
 ],
 "metadata": {
  "kernelspec": {
   "display_name": "Python 3",
   "language": "python",
   "name": "python3"
  },
  "language_info": {
   "codemirror_mode": {
    "name": "ipython",
    "version": 3
   },
   "file_extension": ".py",
   "mimetype": "text/x-python",
   "name": "python",
   "nbconvert_exporter": "python",
   "pygments_lexer": "ipython3",
   "version": "3.8.5"
  }
 },
 "nbformat": 4,
 "nbformat_minor": 4
}
