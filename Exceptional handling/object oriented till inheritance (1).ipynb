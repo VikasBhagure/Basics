{
 "cells": [
  {
   "cell_type": "markdown",
   "metadata": {},
   "source": [
    "# Object Oriented Programming\n",
    "#### 1. Python is also an object-oriented language since its beginning. It allows us to develop applications using an Object-Oriented approach. In Python, we can easily create and use classes and objects.\n",
    "\n",
    "#### 2. An object-oriented paradigm is to design the program using classes and objects. The object is related to real-word entities such as book, house, pencil, etc. The oops concept focuses on writing the reusable code. It is a widespread technique to solve the problem by creating objects.\n",
    "   ##### i.Class\n",
    "   ##### ii.Object\n",
    "   ##### iii.Method\n",
    "   ##### iv.Inheritance\n",
    "   ##### v. Polymorphism\n",
    "   ##### vi. Data Abstraction\n",
    "   ##### vii. Encapsulation"
   ]
  },
  {
   "cell_type": "markdown",
   "metadata": {},
   "source": [
    "## object\n",
    "1.  It is an real world entity. \n",
    "2.  It is a collection of data ,variable and method.\n",
    "3.  It has state and behaviour it many be anything either physical or logical.\n",
    "4.  Every things in python is an object and almost every object has attributes and methods.\n",
    "5.  Objects are nothing but an encapsulation of variables and functions into a single entity.\n",
    "6.  Objects get their variables and functions from classes."
   ]
  },
  {
   "cell_type": "code",
   "execution_count": null,
   "metadata": {},
   "outputs": [],
   "source": []
  },
  {
   "cell_type": "markdown",
   "metadata": {},
   "source": [
    "## Class\n",
    "1. The class can be defined as a collection of objects. It is a logical entity that has some specific attributes and methods.\n",
    "2. It is the blueprint of the object,like a structure or prototype.\n",
    "3. It is defined as a collections of object .\n",
    "4. A class is an object constructor or a blueprint for creating objects.\n",
    "5. To create a class we use the keyword class."
   ]
  },
  {
   "cell_type": "markdown",
   "metadata": {},
   "source": [
    "# syntax of class\n",
    "\n",
    " - class class_name:\n",
    "     \"docstring\"\n",
    "     def_init_(self,var1,var2)\n",
    "          self.var1=var1\n",
    "          self.var2=var2\n",
    "          \n",
    "          \n",
    "     def fun_name(self):\n",
    "         print(self.var1)\n",
    "         print(self.var2)\n",
    "         \n",
    " - note\n",
    " - All classes have a function called __init__() which is always executed when the class is being initiated.\n",
    " - We can use __init__() function to assign values to object properties or other operations that are necessary to perform the    object is being created.\n",
    " - the self parameter is a reference to the current instance of the class and is used to access class variables.\n",
    " - self must be the first parameter of any function in the class.\n",
    "        "
   ]
  },
  {
   "cell_type": "markdown",
   "metadata": {},
   "source": [
    "# __init__() and self\n",
    "- __init__(): It is a special method of the Python which called as class instructor or initialization method that Python calls when we create a new instance of this class.\n",
    "\n",
    "- self : It represent the instance of the class .By using self keyword we can access the attributes and method of the class in Python."
   ]
  },
  {
   "cell_type": "code",
   "execution_count": 1,
   "metadata": {},
   "outputs": [
    {
     "name": "stdout",
     "output_type": "stream",
     "text": [
      "10\n"
     ]
    }
   ],
   "source": [
    "class my:\n",
    "    v=10\n",
    "    \n",
    "obj=my()\n",
    "print(obj.v)"
   ]
  },
  {
   "cell_type": "code",
   "execution_count": 2,
   "metadata": {},
   "outputs": [
    {
     "name": "stdout",
     "output_type": "stream",
     "text": [
      "id: 12\n",
      "name: divya\n",
      "welcome for joining !!! divya\n"
     ]
    }
   ],
   "source": [
    "class employee:\n",
    "    def __init__(self,name,eid):\n",
    "        self.name=name\n",
    "        self.eid=eid\n",
    "        \n",
    "    def greet(self):\n",
    "        print(\"welcome for joining !!!\",self.name)\n",
    "\n",
    "emp1= employee(\"divya\",12)\n",
    "\n",
    "print(\"id:\",emp1.eid)\n",
    "print(\"name:\",emp1.name)\n",
    "emp1.greet()"
   ]
  },
  {
   "cell_type": "code",
   "execution_count": 5,
   "metadata": {},
   "outputs": [
    {
     "name": "stdout",
     "output_type": "stream",
     "text": [
      "enter the first number:5\n",
      "enter the second number:7\n",
      "Sum is: 12\n"
     ]
    }
   ],
   "source": [
    "class num:\n",
    "    \n",
    "    def sum(self,a,b):\n",
    "        s=a+b\n",
    "        return s\n",
    "    \n",
    "a = int(input(\"enter the first number:\"))\n",
    "b = int(input(\"enter the second number:\"))\n",
    "\n",
    "obj=num()\n",
    "s=obj.sum(a,b)\n",
    "\n",
    "print(\"Sum is:\" ,s)\n"
   ]
  },
  {
   "cell_type": "code",
   "execution_count": 6,
   "metadata": {},
   "outputs": [
    {
     "name": "stdout",
     "output_type": "stream",
     "text": [
      "enter the first number:8\n",
      "enter the second number:9\n",
      "Sum 17\n"
     ]
    }
   ],
   "source": [
    "class num:\n",
    "    \n",
    "    def sum(self,a,b):\n",
    "        s=a+b\n",
    "        print(\"Sum\",s)\n",
    "    \n",
    "a = int(input(\"enter the first number:\"))\n",
    "b = int(input(\"enter the second number:\"))\n",
    "\n",
    "obj=num()\n",
    "obj.sum(a,b)\n"
   ]
  },
  {
   "cell_type": "code",
   "execution_count": 7,
   "metadata": {},
   "outputs": [
    {
     "name": "stdout",
     "output_type": "stream",
     "text": [
      "welcome for joining !!! shalini\n"
     ]
    }
   ],
   "source": [
    "class employee:\n",
    "     def greet(self):\n",
    "        s=\"shalini\"\n",
    "        print(\"welcome for joining !!!\",s)\n",
    "\n",
    "emp1= employee()\n",
    "\n",
    "\n",
    "emp1.greet()"
   ]
  },
  {
   "cell_type": "markdown",
   "metadata": {},
   "source": [
    "# Built-in class attributes:\n",
    "- Every Python class keep following built-in atributes and they can be accessed using . operators like any other attributes\n",
    "1. __dict__: This is the dictionary contains the classes name space.\n",
    "2. __doc__: This is the class document string or none if undefined.\n",
    "3. __name__ : This is for class name.\n",
    "4. __module__: Module name in which the class is defined.\n",
    "5. __bases__: A possible empty tuple containing the base classes in the order of there occurence in base class list ."
   ]
  },
  {
   "cell_type": "code",
   "execution_count": 8,
   "metadata": {},
   "outputs": [
    {
     "name": "stdout",
     "output_type": "stream",
     "text": [
      "{'__module__': '__main__', 'greet': <function employee.greet at 0x0000014976BE2040>, '__dict__': <attribute '__dict__' of 'employee' objects>, '__weakref__': <attribute '__weakref__' of 'employee' objects>, '__doc__': None}\n"
     ]
    }
   ],
   "source": [
    "print(employee.__dict__)"
   ]
  },
  {
   "cell_type": "code",
   "execution_count": 9,
   "metadata": {},
   "outputs": [
    {
     "name": "stdout",
     "output_type": "stream",
     "text": [
      "None\n"
     ]
    }
   ],
   "source": [
    "print(employee.__doc__)"
   ]
  },
  {
   "cell_type": "code",
   "execution_count": 10,
   "metadata": {},
   "outputs": [
    {
     "name": "stdout",
     "output_type": "stream",
     "text": [
      "employee\n"
     ]
    }
   ],
   "source": [
    "print(employee.__name__)"
   ]
  },
  {
   "cell_type": "code",
   "execution_count": 11,
   "metadata": {},
   "outputs": [
    {
     "name": "stdout",
     "output_type": "stream",
     "text": [
      "__main__\n"
     ]
    }
   ],
   "source": [
    "print(employee.__module__)"
   ]
  },
  {
   "cell_type": "code",
   "execution_count": 12,
   "metadata": {},
   "outputs": [
    {
     "name": "stdout",
     "output_type": "stream",
     "text": [
      "(<class 'object'>,)\n"
     ]
    }
   ],
   "source": [
    "print(employee.__bases__)"
   ]
  },
  {
   "cell_type": "code",
   "execution_count": 13,
   "metadata": {},
   "outputs": [
    {
     "data": {
      "text/plain": [
       "'rohini'"
      ]
     },
     "execution_count": 13,
     "metadata": {},
     "output_type": "execute_result"
    }
   ],
   "source": [
    "emp1.name=\"rohini\"\n",
    "emp1.name"
   ]
  },
  {
   "cell_type": "code",
   "execution_count": 14,
   "metadata": {},
   "outputs": [
    {
     "name": "stdout",
     "output_type": "stream",
     "text": [
      "id: 12\n",
      "name: divya\n",
      "welcome for joining !!! divya\n"
     ]
    }
   ],
   "source": [
    "class employee:\n",
    "    def __init__(self,name,eid):\n",
    "        self.name=name\n",
    "        self.eid=eid\n",
    "        \n",
    "    def greet(self):\n",
    "        print(\"welcome for joining !!!\",self.name)\n",
    "\n",
    "emp1= employee(\"divya\",12)\n",
    "\n",
    "print(\"id:\",emp1.eid)\n",
    "print(\"name:\",emp1.name)\n",
    "emp1.greet()"
   ]
  },
  {
   "cell_type": "code",
   "execution_count": 15,
   "metadata": {},
   "outputs": [],
   "source": [
    "del emp1.eid"
   ]
  },
  {
   "cell_type": "code",
   "execution_count": 16,
   "metadata": {},
   "outputs": [
    {
     "ename": "AttributeError",
     "evalue": "'employee' object has no attribute 'eid'",
     "output_type": "error",
     "traceback": [
      "\u001b[1;31m---------------------------------------------------------------------------\u001b[0m",
      "\u001b[1;31mAttributeError\u001b[0m                            Traceback (most recent call last)",
      "\u001b[1;32m<ipython-input-16-28a0902ae7d8>\u001b[0m in \u001b[0;36m<module>\u001b[1;34m\u001b[0m\n\u001b[1;32m----> 1\u001b[1;33m \u001b[0memp1\u001b[0m\u001b[1;33m.\u001b[0m\u001b[0meid\u001b[0m\u001b[1;33m\u001b[0m\u001b[1;33m\u001b[0m\u001b[0m\n\u001b[0m",
      "\u001b[1;31mAttributeError\u001b[0m: 'employee' object has no attribute 'eid'"
     ]
    }
   ],
   "source": [
    "emp1.eid"
   ]
  },
  {
   "cell_type": "markdown",
   "metadata": {},
   "source": [
    "# Constructor\n",
    "- A constructor is a special type of method (function) which is used to initialize the instance members of the class.\n",
    "- Constructors can be of two types.\n",
    "   1. Parameterized Constructor\n",
    "   2. Non-parameterized Constructor\n",
    "   \n",
    "- Constructor definition is executed when we create the object of this class. Constructors also verify that there are enough resources for the object to perform any start-up task.\n",
    "\n",
    "- In Python, the method the __init__() simulates the constructor of the class. This method is called when the class is instantiated. It accepts the self-keyword as a first argument which allows accessing the attributes or method of the class.\n",
    "\n",
    "- We can pass any number of arguments at the time of creating the class object, depending upon the __init__() definition. It is mostly used to initialize the class attributes. Every class must have a constructor, even if it simply relies on the default constructor."
   ]
  },
  {
   "cell_type": "code",
   "execution_count": 17,
   "metadata": {},
   "outputs": [
    {
     "name": "stdout",
     "output_type": "stream",
     "text": [
      "id: 12\n",
      "name: divya\n",
      "welcome for joining !!! divya\n"
     ]
    }
   ],
   "source": [
    "#parameterized constructor\n",
    "class employee:\n",
    "    def __init__(self,name,eid):\n",
    "        self.name=name\n",
    "        self.eid=eid\n",
    "        \n",
    "    def greet(self):\n",
    "        print(\"welcome for joining !!!\",self.name)\n",
    "\n",
    "emp1= employee(\"divya\",12)\n",
    "\n",
    "print(\"id:\",emp1.eid)\n",
    "print(\"name:\",emp1.name)\n",
    "emp1.greet()"
   ]
  },
  {
   "cell_type": "code",
   "execution_count": null,
   "metadata": {},
   "outputs": [],
   "source": [
    "#non - parameterized constructor\n",
    "class employee:\n",
    "    def __init__(self):\n",
    "        print(\"i am creating non parameterized constructor\")\n",
    "        \n",
    "    def greet(self,name,eid):\n",
    "        print(\"welcome for joining !!!\",name,eid)\n",
    "\n",
    "emp1= employee()\n",
    "emp1.greet(\"riya\",78)"
   ]
  },
  {
   "cell_type": "markdown",
   "metadata": {},
   "source": [
    "# inheritance \n",
    "1. Inheritance is a powerful feature in object oriented programming.\n",
    "2. inheritance provides code reusability in the program because we can use an existing classs(super class/parent class /base class) to create a new class (sub class/child class/derived class) instead of creating it from scratch.\n",
    "3. the child class inherits data definitions and methods from the parent class which facilitates the reuse features already avaiable.the child class can add few more definitions or redefine a base class method.\n",
    "4. inheritance comes into picture when a new class possesssess the 'IS A' relationship with an existing class ."
   ]
  },
  {
   "cell_type": "code",
   "execution_count": 1,
   "metadata": {},
   "outputs": [],
   "source": [
    "class person:   # parent class\n",
    "    def __init__(self,name,age):\n",
    "        self.name=name\n",
    "        self.age=age\n",
    "    def personinfo(self):\n",
    "        print('name:',self.name,\"age:\",self.age)"
   ]
  },
  {
   "cell_type": "code",
   "execution_count": 2,
   "metadata": {},
   "outputs": [
    {
     "name": "stdout",
     "output_type": "stream",
     "text": [
      "student details\n",
      "name: hari age: 23\n",
      "id: 101 fees: 6700\n"
     ]
    }
   ],
   "source": [
    "\n",
    "class student(person):\n",
    "    def __init__(self,name,age,stid,fees):\n",
    "        person.__init__(self,name,age)\n",
    "        self.stid=stid\n",
    "        self.fees=fees\n",
    "        \n",
    "    def studentinfo(self):\n",
    "        print(\"id:\",self.stid,\"fees:\",self.fees)\n",
    "        \n",
    "s1=student(\"hari\",23,101,6700)\n",
    "print(\"student details\")\n",
    "s1.personinfo()\n",
    "s1.studentinfo()"
   ]
  },
  {
   "cell_type": "code",
   "execution_count": 3,
   "metadata": {},
   "outputs": [
    {
     "name": "stdout",
     "output_type": "stream",
     "text": [
      "details\n",
      "name: Lingesh year: 2011\n",
      "passout: 2013 dep: cse\n"
     ]
    }
   ],
   "source": [
    "class college:\n",
    "    def __init__(self,name,year):\n",
    "        self.name=name\n",
    "        self.year=year\n",
    "    def collegeinfo(self):\n",
    "        print('name:',self.name,'year:',self.year)\n",
    "class details(college):\n",
    "    def __init__(self,name,year,passout,dep):\n",
    "        college.__init__(self,name,year)\n",
    "        self.passout=passout\n",
    "        self.dep=dep\n",
    "    def detailsinfo(self):\n",
    "        print('passout:',self.passout,'dep:',self.dep)\n",
    "R=details('Lingesh',2011,2013,'cse')\n",
    "print('details')\n",
    "R.collegeinfo()\n",
    "R.detailsinfo()\n"
   ]
  },
  {
   "cell_type": "markdown",
   "metadata": {},
   "source": [
    "# Types of inheritance:\n",
    "1. Single inheritance\n",
    "2. Multiple inheritance\n",
    "3. Multi- level Inheritance\n",
    "4. Hierarchical Inheritance\n",
    "5. Hybrid inheritance\n"
   ]
  },
  {
   "cell_type": "markdown",
   "metadata": {},
   "source": [
    "# Single inheritance :\n",
    "- Single inheritance is the simplest type of inheritance in which it enable derived class to inherit properties from a single parent class.\n",
    "\n",
    "\n",
    "       A  #parent class\n",
    "       |\n",
    "       |\n",
    "       |\n",
    "       B  # child class "
   ]
  },
  {
   "cell_type": "markdown",
   "metadata": {},
   "source": [
    "# Multiple inheritance :\n",
    "- When a class can be derived from more than one base class is known as multiple inheritance.\n",
    "\n",
    "\n",
    "      A                  B\n",
    "      |                  |\n",
    "      |                  |\n",
    "      |                  |\n",
    "      ____________________\n",
    "              |\n",
    "              |\n",
    "              |\n",
    "              C"
   ]
  },
  {
   "cell_type": "markdown",
   "metadata": {},
   "source": [
    "# Multilevel inheritance :\n",
    "- In multilevel inheritance, there are many intermediate or levelled class will be present.\n",
    "- Example: grandparent, parents and grandson is the best example of multilevel inheritance\n",
    "\n",
    "        A\n",
    "        |\n",
    "        |\n",
    "        |\n",
    "        B\n",
    "        |\n",
    "        |\n",
    "        |\n",
    "        C\n",
    "     "
   ]
  },
  {
   "cell_type": "code",
   "execution_count": 4,
   "metadata": {},
   "outputs": [
    {
     "name": "stdout",
     "output_type": "stream",
     "text": [
      "welcome in game: cricket\n",
      "rohit\n",
      "welcome in game: cricket\n",
      "rohit\n",
      "virat\n"
     ]
    }
   ],
   "source": [
    "class game:\n",
    "    def __init__(self,games):\n",
    "        self.games=games\n",
    "    def show_game(self):\n",
    "        print(\"welcome in game:\",self.games)\n",
    "        \n",
    "class captain(game):\n",
    "    def __init__(self,games,captains):\n",
    "        game.__init__(self,games)\n",
    "        self.captains=captains\n",
    "    def show_captain(self):\n",
    "        game.show_game(self)\n",
    "        print(self.captains)\n",
    "            \n",
    "class vice_captain(captain):\n",
    "    def __init__(self,games,captains,vice_captains):\n",
    "        captain.__init__(self,games,captains)\n",
    "        self.vice_captains=vice_captains\n",
    "        captain.show_captain(self)\n",
    "    def show_vice_captain(self):\n",
    "        print(self.vice_captains)\n",
    "\n",
    "\n",
    "\n",
    "gc = vice_captain(\"cricket\",\"rohit\",\"virat\")\n",
    "gc.show_captain()\n",
    "gc.show_vice_captain()\n"
   ]
  },
  {
   "cell_type": "markdown",
   "metadata": {},
   "source": [
    "# Hierarichal Inheritance :\n",
    "In hierarichal inehritance there will be more than one child or derived class of the parent class.\n",
    "Example: sibling with parents\n",
    "\n",
    "\n",
    "         A\n",
    "         |\n",
    "         |\n",
    "         |\n",
    "   ________________________\n",
    "   |                        |\n",
    "   |                        |\n",
    "   |                        |\n",
    "   B                        C"
   ]
  },
  {
   "cell_type": "markdown",
   "metadata": {},
   "source": [
    "# Hybrid inheritance:\n",
    "Hybrid inheritance consists of multiple type of inheritance i.e combination of different types of inheritance\n",
    "\n",
    "    A                B\n",
    "    |                |\n",
    "    |                |\n",
    "    |                |\n",
    "    __________________\n",
    "           |\n",
    "           |\n",
    "           |\n",
    "           C\n",
    "           |\n",
    "           |\n",
    "           |\n",
    "           D\n",
    "           |\n",
    "        _____________\n",
    "        |            |\n",
    "        \n",
    "        E            F\n",
    "          \n",
    "           "
   ]
  },
  {
   "cell_type": "code",
   "execution_count": null,
   "metadata": {},
   "outputs": [],
   "source": [
    "class college:\n",
    "    \n",
    "    def __init__(self,place,collegename):\n",
    "        self.place=place\n",
    "        self.collegename=collegename\n",
    "        \n",
    "    def collegeinfo(self):\n",
    "        print(\"place:\",self.place,\"collegename:\",self.collegename)\n",
    "\n",
    "class department:\n",
    "    \n",
    "    def __init__(self,dept):\n",
    "        self.dept=dept\n",
    "    \n",
    "    def departmentinfo(self):\n",
    "        print(\"dept:\",self.dept)\n",
    "        \n",
    "class teacher(college,department):\n",
    "    def __init__(self,place,collegename,dept,teachername):\n",
    "        college.__init__(self,place,collegename)\n",
    "        department.__init__(self,dept)\n",
    "        self.teachername=teachername\n",
    "        \n",
    "    def teacherinfo(self):\n",
    "        print(\"teachername:\",self.teachername)\n",
    "        college.collegeinfo(self)\n",
    "        department.departmentinfo(self)\n",
    "        \n",
    "class student(teacher):\n",
    "    def __init__(self,place,collegename,dept,teachername,name,year,passout):\n",
    "        teacher.__init__(self,place,collegename,dept,teachername)\n",
    "        self.name=name\n",
    "        self.year=year\n",
    "        self.passout=passout\n",
    "  \n",
    "    def studentinfo(self):\n",
    "        print('name:',self.name,\"year:\",self.year,\"passout:\",self.passout)\n",
    "        \n",
    "\n",
    "r=student(\"Thrissur\",\"St.mary's college\",\"Mathematics\",\"Renuka miss\",\"Sneha\",2018,2021)\n",
    "print(\"student academic details\")\n",
    "\n",
    "r.teacherinfo()\n",
    "r.studentinfo()\n"
   ]
  },
  {
   "cell_type": "code",
   "execution_count": null,
   "metadata": {},
   "outputs": [],
   "source": [
    "class college:\n",
    "    def __init__(self,place,collegename):\n",
    "        self.place=place\n",
    "        self.collegename=collegename\n",
    "    def collegeinfo(self):\n",
    "        print(\"place:\",self.place,'collegename:',self.collegename)\n",
    "        \n",
    "class department(college):\n",
    "    def __init__(self,place,collegename,dept):\n",
    "        college.__init__(self,place,collegename)\n",
    "        self.dept=dept\n",
    "    def departmentinfo(self):\n",
    "        print(\"dept:\",self.dept)\n",
    "        college.collegeinfo(self)\n",
    "        \n",
    "class student(department):\n",
    "    def __init__(self,place,collegename,dept,name,year,passout):\n",
    "        department.__init__(self,place,collegename,dept)\n",
    "        self.name=name\n",
    "        self.year=year\n",
    "        self.passout=passout\n",
    "    def studentinfo(self):\n",
    "        print('name:',self.name,'year:',self.year,'passout:',self.passout)\n",
    "\n",
    "\n",
    "s=student('Kerala','UK','CS','Nivetha',2016,2020)\n",
    "print(\"details\")\n",
    "s.studentinfo()\n",
    "s.departmentinfo()\n"
   ]
  },
  {
   "cell_type": "code",
   "execution_count": null,
   "metadata": {},
   "outputs": [],
   "source": []
  },
  {
   "cell_type": "code",
   "execution_count": null,
   "metadata": {},
   "outputs": [],
   "source": [
    "class A:\n",
    "    def __init__(self):\n",
    "        print(\"Constructor of Base class\")\n",
    "        \n",
    "    def show(self):\n",
    "        print(\"Creating function in class A\")\n",
    "        \n",
    "class B(A):\n",
    "    def __init__(self):\n",
    "        super().__init__()\n",
    "        print(\"Constructor of child class\")\n",
    "        \n",
    "    def show(self):\n",
    "        super().show()\n",
    "        print(\"Creating function in class B\")\n",
    "        \n",
    "        \n",
    "b= B()\n",
    "b.show()"
   ]
  },
  {
   "cell_type": "markdown",
   "metadata": {},
   "source": [
    "### Method Resolution order "
   ]
  },
  {
   "cell_type": "code",
   "execution_count": null,
   "metadata": {},
   "outputs": [],
   "source": [
    "class A:\n",
    "    def __init__(self):\n",
    "        print(\"Constructor of Base class A\")\n",
    "        \n",
    "    def show(self):\n",
    "        print(\"Creating function in class A\")\n",
    "        \n",
    "class B:\n",
    "    def __init__(self):\n",
    "        print(\"Constructor of Base  class B\")\n",
    "        \n",
    "    def show1(self):\n",
    "        print(\"Creating function in class B\")\n",
    "        \n",
    "class C(A,B):\n",
    "    def __init__(self):\n",
    "        super().__init__()\n",
    "        print(\"Constructor of child class\")\n",
    "        \n",
    "    def show(self):\n",
    "        super().show()\n",
    "        print(\"Creating function in class C\")\n",
    "        \n",
    "        \n",
    "b= C()\n",
    "b.show()"
   ]
  },
  {
   "cell_type": "markdown",
   "metadata": {},
   "source": [
    "#### The super() function is used to give access to methods and properties of a parent or sibling class.\n",
    "\n",
    "#### The super() function returns an object that represents the parent class."
   ]
  }
 ],
 "metadata": {
  "kernelspec": {
   "display_name": "Python 3",
   "language": "python",
   "name": "python3"
  },
  "language_info": {
   "codemirror_mode": {
    "name": "ipython",
    "version": 3
   },
   "file_extension": ".py",
   "mimetype": "text/x-python",
   "name": "python",
   "nbconvert_exporter": "python",
   "pygments_lexer": "ipython3",
   "version": "3.8.5"
  }
 },
 "nbformat": 4,
 "nbformat_minor": 4
}
